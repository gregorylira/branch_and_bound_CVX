{
  "nbformat": 4,
  "nbformat_minor": 0,
  "metadata": {
    "colab": {
      "name": "agoraVai.ipynb",
      "provenance": [],
      "collapsed_sections": [],
      "toc_visible": true
    },
    "kernelspec": {
      "name": "python3",
      "display_name": "Python 3"
    }
  },
  "cells": [
    {
      "cell_type": "markdown",
      "metadata": {
        "id": "_aTkqG9C6m1o",
        "colab_type": "text"
      },
      "source": [
        "# Importar Blibliotecas"
      ]
    },
    {
      "cell_type": "code",
      "metadata": {
        "id": "zg3XqArQ6joA",
        "colab_type": "code",
        "colab": {}
      },
      "source": [
        "import cvxpy as cvx\n",
        "import copy\n",
        "from heapq import *\n",
        "import numpy as np\n",
        "import itertools\n",
        "counter = itertools.count() "
      ],
      "execution_count": 0,
      "outputs": []
    },
    {
      "cell_type": "markdown",
      "metadata": {
        "id": "yW_fAxSq6urE",
        "colab_type": "text"
      },
      "source": [
        "# Criação Da Classe"
      ]
    },
    {
      "cell_type": "code",
      "metadata": {
        "id": "_sRdeRRR6zEJ",
        "colab_type": "code",
        "colab": {}
      },
      "source": [
        "class BBTreeNode():\n",
        "    def __init__(self, vars = set(), constraints = [], objective=0, bool_vars=set()):\n",
        "        self.vars = vars\n",
        "        self.constraints = constraints\n",
        "        self.objective = objective\n",
        "        self.bool_vars = bool_vars\n",
        "        self.children = []\n",
        "    def buildProblem(self):\n",
        "        prob = cvx.Problem(cvx.Minimize(self.objective), self.constraints) #i put Minimize, just so you know that I'm assuming it\n",
        "        return prob\n",
        "    def is_integral(self):\n",
        "        print (all([abs(v.value - 1) <= 1e-3 or abs(v.value - 0) <= 1e-3 for v in self.bool_vars]))\n",
        "        return all([abs(v.value - 1) <= 1e-3 or abs(v.value - 0) <= 1e-3 for v in self.bool_vars])\n",
        "\n",
        "\n",
        "\n",
        "    def is_fractional(self):\n",
        "      self.fracionario = []\n",
        "      for num in self.bool_vars:\n",
        "        if not str(round(num.value, 2)).replace('.','').isdigit(): return \n",
        "        if(float(round(num.value, 2)) != int(round(num.value, 2))):\n",
        "          self.fracionario.append(num)\n",
        "      #print(fracionario)\n",
        "      if (len(self.fracionario) == 0):\n",
        "        return False\n",
        "      return self.fracionario\n",
        "\n",
        "    \n",
        "\n",
        "    def branch(self):\n",
        "        children = []\n",
        "        for b in [0,1]:\n",
        "                n1 = copy.deepcopy(self) #yeesh. Not good performance wise, but is simple implementation-wise\n",
        "                v = n1.heuristic() #dangerous what if they don't do the same one? I need to do it here though because I need access to copied v.\n",
        "                n1.constraints.append( v == b ) # add in the new binary constraint\n",
        "                n1.children = []\n",
        "                n1.bool_vars.remove(v) #remove binary constraint from bool var set\n",
        "                n1.vars.add(v) #and add it into var set for later inspection of answer\n",
        "                #self.children.append(n1)   # eventually I might want to keep around the entire search tree. I messed this up though\n",
        "                children.append(n1)             \n",
        "        return children\n",
        "\n",
        "\n",
        "    def heuristic(self):\n",
        "        mais_proximo = 1e30\n",
        "        #fracionarios = self.is_fractional()\n",
        "        print(self.fracionario)\n",
        "        for v in self.fracionario:\n",
        "          print(round((v.value * 100 ),4))\n",
        "          if (round(v.value, 4) > 0.5):\n",
        "            x = range(round((int(v.value) * 100 ), 4) ,50 , -5)\n",
        "          elif (round(v.value, 4) < 0.5):\n",
        "            x = range (round((int(v.value) * 100 ), 4), 50, 5)\n",
        "          elif (round(v.value, 4) == 0.5):\n",
        "            return v\n",
        "          if (len(x) <= mais_proximo):\n",
        "            mais_proximo = v.value\n",
        "            var_mais_proxima = v\n",
        "        return var_mais_proxima\n",
        "\n",
        "          \n",
        "            \n",
        "      \n",
        "\n",
        "\n",
        "    def bbsolve(self):\n",
        "        root = self\n",
        "        res = root.buildProblem().solve()\n",
        "        heap = [(res, next(counter), root)]\n",
        "        bestres = 1e20 # a big arbitrary initial best objective value\n",
        "        bestnode = root # initialize bestnode to the root\n",
        "        print(heap)\n",
        "        nodecount = 0\n",
        "        while len(heap) > 0: \n",
        "            nodecount += 1 # for statistics\n",
        "            print(\"Heap Size: \", len(heap))\n",
        "            _, _, node = heappop(heap)\n",
        "            prob = node.buildProblem()\n",
        "            res = prob.solve()\n",
        "            print(\"Result: \", res)\n",
        "            if prob.status not in [\"infeasible\", \"unbounded\"]:\n",
        "                if res > bestres - 1e-3: #even the relaxed problem sucks. forget about this branch then\n",
        "                    print(\"Relaxed Problem Stinks. Killing this branch.\")\n",
        "                    pass\n",
        "                elif not node.is_fractional(): #if a valid solution then this is the new best\n",
        "                        print(\"New Best Integral solution.\")\n",
        "                        bestres = res\n",
        "                        bestnode = node\n",
        "                else: #otherwise, we're unsure if this branch holds promise. Maybe it can't actually achieve this lower bound. So branch into it\n",
        "                    new_nodes = node.branch()\n",
        "                    for new_node in new_nodes:\n",
        "                        heappush(heap, (res, next(counter), new_node ) )  # using counter to avoid possible comparisons between nodes. It tie breaks\n",
        "        print(\"Nodes searched: \", nodecount)      \n",
        "        return bestres, bestnode"
      ],
      "execution_count": 0,
      "outputs": []
    },
    {
      "cell_type": "markdown",
      "metadata": {
        "id": "ex8WK9iE7DCK",
        "colab_type": "text"
      },
      "source": [
        "# Manipulando"
      ]
    },
    {
      "cell_type": "code",
      "metadata": {
        "id": "Z7BmRxvX7Zre",
        "colab_type": "code",
        "outputId": "b71e133c-53b8-4450-fa79-b8cc5ac12dfe",
        "colab": {
          "base_uri": "https://localhost:8080/",
          "height": 34
        }
      },
      "source": [
        "matriz = []\n",
        "arquivo = open('problema.txt','r')\n",
        "for linha in arquivo:\n",
        "  valores = linha.split()\n",
        "  matriz.append(valores) #ler do arquivo as linhas e coloca na matriz, para manipulações futuras\n",
        "arquivo.close()\n",
        "\n",
        "\n",
        "\n",
        "for i in range(len(matriz)):\n",
        "  for j in range (len(matriz[i])):\n",
        "    matriz[i][j] = float(matriz[i][j]) #converte as string lida no arquivo para inteiro\n",
        "matriz[0][0] = int(matriz[0][0])\n",
        "matriz[0][1] = int(matriz[0][1])\n",
        "print(matriz)\n"
      ],
      "execution_count": 0,
      "outputs": [
        {
          "output_type": "stream",
          "text": [
            "[[4, 2], [1.5, 2.0, 3.0, 0.8], [7.0, 8.0, 30.0, 6.0, 3.0], [550.0, 300.0, 400.0, 250.0, 50.0]]\n"
          ],
          "name": "stdout"
        }
      ]
    },
    {
      "cell_type": "code",
      "metadata": {
        "id": "iXcqH9hW7cE_",
        "colab_type": "code",
        "outputId": "248bdbf7-9646-4eb3-9471-68c059a1cf5e",
        "colab": {
          "base_uri": "https://localhost:8080/",
          "height": 34
        }
      },
      "source": [
        "\n",
        "tratamento = matriz.pop(0)\n",
        "print (tratamento)\n",
        "#separando variavel e restrição\n",
        "variaveis = int(tratamento[0])\n",
        "restricao = int(tratamento[1])\n",
        "#colocando a lista da função objetivo na variavel\n",
        "\n",
        "funcao_objetivo = matriz.pop(0)\n",
        "matriz_restricao = matriz\n",
        "\n"
      ],
      "execution_count": 0,
      "outputs": [
        {
          "output_type": "stream",
          "text": [
            "[4, 2]\n"
          ],
          "name": "stdout"
        }
      ]
    },
    {
      "cell_type": "code",
      "metadata": {
        "id": "yG2QKiav7SfL",
        "colab_type": "code",
        "colab": {}
      },
      "source": [
        "x = cvx.Variable(variaveis)\n",
        "constraints = []\n",
        "for i in range (restricao):\n",
        "  constraints += [matriz_restricao[i][:-1]*x >= matriz_restricao[i][len(matriz_restricao[i])-1]] # cria as restrições\n",
        "constraints +=  [x >= 0, x <=1 ] # relaxação entre 0 e 1, nos reais.\n",
        "objective = funcao_objetivo * x\n",
        "bool_vars = {x[i] for i in range(variaveis)} \n"
      ],
      "execution_count": 0,
      "outputs": []
    },
    {
      "cell_type": "code",
      "metadata": {
        "id": "6-QLOqai8ddS",
        "colab_type": "code",
        "outputId": "645b4b60-7cdb-4bb6-979b-be76faaf3d41",
        "colab": {
          "base_uri": "https://localhost:8080/",
          "height": 768
        }
      },
      "source": [
        "root = BBTreeNode(constraints = constraints, objective= objective, bool_vars = bool_vars)\n",
        "res, sol = root.bbsolve()\n",
        "print(sorted(list([(v.name(), v.value) for v in sol.bool_vars] + [(v.name(), v.value) for v in sol.vars] ) ))"
      ],
      "execution_count": 13,
      "outputs": [
        {
          "output_type": "stream",
          "text": [
            "[(0.3117647059446477, 23, <__main__.BBTreeNode object at 0x7ff390ccf518>)]\n",
            "Heap Size:  1\n",
            "Result:  0.3117647059446477\n",
            "[Expression(AFFINE, UNKNOWN, ()), Expression(AFFINE, UNKNOWN, ())]\n",
            "8.8235\n",
            "5.8824\n",
            "[Expression(AFFINE, UNKNOWN, ()), Expression(AFFINE, UNKNOWN, ())]\n",
            "8.8235\n",
            "5.8824\n",
            "Heap Size:  2\n",
            "Result:  0.40000000003044\n",
            "[Expression(AFFINE, UNKNOWN, ())]\n",
            "50.0\n",
            "[Expression(AFFINE, UNKNOWN, ())]\n",
            "50.0\n",
            "Heap Size:  3\n",
            "Result:  3.000000000065813\n",
            "New Best Integral solution.\n",
            "Heap Size:  2\n",
            "Result:  0.6428571433976683\n",
            "[Expression(AFFINE, UNKNOWN, ())]\n",
            "42.8571\n",
            "[Expression(AFFINE, UNKNOWN, ())]\n",
            "42.8571\n",
            "Heap Size:  3\n",
            "Result:  0.8000000009900686\n",
            "New Best Integral solution.\n",
            "Heap Size:  2\n",
            "Result:  0.7500000001150365\n",
            "[Expression(AFFINE, UNKNOWN, ())]\n",
            "37.5\n",
            "[Expression(AFFINE, UNKNOWN, ())]\n",
            "37.5\n",
            "Heap Size:  3\n",
            "Result:  1.5000000003998069\n",
            "Relaxed Problem Stinks. Killing this branch.\n",
            "Heap Size:  2\n",
            "Result:  inf\n",
            "Heap Size:  1\n",
            "Result:  2.0000000000010756\n",
            "Relaxed Problem Stinks. Killing this branch.\n",
            "Nodes searched:  9\n",
            "[('var1247[0]', 3.547569599859213e-10), ('var1247[1]', 2.2885974922888253e-10), ('var1247[2]', 1.0714423735629882e-13), ('var1247[3]', 0.9999999999998651)]\n"
          ],
          "name": "stdout"
        }
      ]
    }
  ]
}
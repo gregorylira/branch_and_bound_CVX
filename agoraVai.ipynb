{
  "nbformat": 4,
  "nbformat_minor": 0,
  "metadata": {
    "colab": {
      "name": "agoraVai.ipynb",
      "provenance": [],
      "collapsed_sections": [],
      "toc_visible": true
    },
    "kernelspec": {
      "name": "python3",
      "display_name": "Python 3"
    }
  },
  "cells": [
    {
      "cell_type": "markdown",
      "metadata": {
        "id": "_aTkqG9C6m1o",
        "colab_type": "text"
      },
      "source": [
        "# Importar Blibliotecas"
      ]
    },
    {
      "cell_type": "code",
      "metadata": {
        "id": "zg3XqArQ6joA",
        "colab_type": "code",
        "colab": {}
      },
      "source": [
        "import cvxpy as cvx\n",
        "import copy\n",
        "from heapq import *\n",
        "import numpy as np\n",
        "import itertools\n",
        "counter = itertools.count() "
      ],
      "execution_count": 0,
      "outputs": []
    },
    {
      "cell_type": "markdown",
      "metadata": {
        "id": "yW_fAxSq6urE",
        "colab_type": "text"
      },
      "source": [
        "# Criação Da Classe"
      ]
    },
    {
      "cell_type": "code",
      "metadata": {
        "id": "_sRdeRRR6zEJ",
        "colab_type": "code",
        "colab": {}
      },
      "source": [
        "class BBTreeNode():\n",
        "    def __init__(self, vars = set(), constraints = [], objective=0, bool_vars=set()):\n",
        "        self.vars = vars\n",
        "        self.constraints = constraints\n",
        "        self.objective = objective\n",
        "        self.bool_vars = bool_vars\n",
        "        self.children = []\n",
        "    def buildProblem(self):\n",
        "        prob = cvx.Problem(cvx.Minimize(self.objective), self.constraints) #criando problema, colocando minimização.\n",
        "        return prob\n",
        "\n",
        "\n",
        "\n",
        "    def is_fractional(self):# verificando se é fracionario, e descobrindo os fracionarios.\n",
        "      self.fracionario = []\n",
        "      for num in self.bool_vars:\n",
        "        if not str(round(num.value, 2)).replace('.','').isdigit(): return \n",
        "        if(float(round(num.value, 2)) != int(round(num.value, 2))):\n",
        "          self.fracionario.append(num)\n",
        "      \n",
        "      if (len(self.fracionario) == 0):\n",
        "        return False\n",
        "      return self.fracionario\n",
        "\n",
        "    \n",
        "\n",
        "    def branch(self):\n",
        "        children = []\n",
        "        for b in [0,1]:\n",
        "                n1 = copy.deepcopy(self) #Faz uma copia do nó da instancia\n",
        "                v = n1.heuristic() #Descobri o numero mais perto do 0.5, usando heuristica.\n",
        "                n1.constraints.append( v == b ) # adicionando novas restrições binarias\n",
        "                n1.children = []\n",
        "                n1.bool_vars.remove(v) #Remove a restrição binaria do bool_vars\n",
        "                n1.vars.add(v) #adionando as novas restrições a vars\n",
        "                children.append(n1) # colona o novo nó na lista do filho\n",
        "        print(\"seguindo pela variavel com valor: \", round(v.value, 4))  # seguimento das novas restrições           \n",
        "        return children\n",
        "\n",
        "\n",
        "    def Is_infinit(self): # verificar se é inviavel, se o valor de z for none\n",
        "        tester = 0\n",
        "        z = (list([(v.value) for v in self.bool_vars] + [(v.value) for v in self.vars] ) )\n",
        "        for i in range(len(z)):\n",
        "          if(z[i] == None ):\n",
        "            tester +=1\n",
        "            continue\n",
        "        if tester == len(z):\n",
        "          return True\n",
        "        else:\n",
        "          return False\n",
        "\n",
        "\n",
        "    def heuristic(self): #verifica o mais proximo do 0.5, e retornar esta variavel.\n",
        "        mais_proximo = 1e30\n",
        "        for v in self.fracionario:\n",
        "          if (round(v.value, 4) > 0.5):\n",
        "            x = range(round((int(v.value) * 100 ), 4) ,50 , -5)\n",
        "          elif (round(v.value, 4) < 0.5):\n",
        "            x = range (round((int(v.value) * 100 ), 4), 50, 5)\n",
        "          elif (round(v.value, 4) == 0.5):\n",
        "            return v\n",
        "          if (len(x) <= mais_proximo):\n",
        "            mais_proximo = v.value\n",
        "            var_mais_proxima = v\n",
        "        return var_mais_proxima\n",
        "\n",
        "          \n",
        "            \n",
        "      \n",
        "\n",
        "\n",
        "    def bbsolve(self): #resolvendo as relaxações, e criando a arvore para resolução.\n",
        "        print(\"~~\"*32)\n",
        "        print(\"Adicionando Nó Pai\")\n",
        "        root = self\n",
        "        res = root.buildProblem().solve()\n",
        "        heap = [(res, next(counter), root)]\n",
        "        bestres = 1e20 # cria um arbitrario muito grande para o dual\n",
        "        bestnode = root # inicia o pai como o melhor nó\n",
        "        print(heap)\n",
        "        nodecount = 0\n",
        "        print(sorted(list([(v.name(), v.value) for v in root.bool_vars] + [(v.name(), v.value) for v in root.vars] )) )\n",
        "        while len(heap) > 0:\n",
        "            print(\"~~\"*32)\n",
        "            nodecount += 1 \n",
        "            print(\"Nós abertos: \", len(heap))\n",
        "            print(\"abrindo nó...\")\n",
        "            print(\"~~\"*32)\n",
        "            print(\"numero do nó\",nodecount)\n",
        "            _, _, node = heappop(heap)\n",
        "            prob = node.buildProblem()\n",
        "            res = prob.solve()\n",
        "            z = (sorted(list([(v.name(), v.value) for v in node.bool_vars] + [(v.name(), v.value) for v in node.vars] )) )\n",
        "            for i in range(len(z)):\n",
        "              if(z[i][1] == None ):\n",
        "                continue\n",
        "              print(\"X{} = {:.4f}\".format(i,round(z[i][1],4)))\n",
        "            tester = node.Is_infinit()\n",
        "            if (tester):\n",
        "              print(\"Infinito, podado por inviabilidade\")\n",
        "              continue\n",
        "            print(\"Z = \", round(res,4))\n",
        "            if prob.status not in [\"infeasible\", \"unbounded\"]:\n",
        "                if res > bestres - 1e-3: #verificando se o Z do nó é maior que meu Dual\n",
        "                    print(\"Podado por limitante. Podando o nó.\")\n",
        "                    pass\n",
        "                elif not node.is_fractional(): #se não for fracionario, logo são todos integral.\n",
        "                        print(\"Nova solução integral.\")\n",
        "                        bestres = res\n",
        "                        bestnode = node\n",
        "                else: # cria dois novos nó com as novas restrições\n",
        "                    new_nodes = node.branch()\n",
        "                    for new_node in new_nodes:\n",
        "                        heappush(heap, (res, next(counter), new_node ) )  # não comparar os nó que ja foram usados usando o counter\n",
        "        print(\"Quantidade de nós descobertos: \", nodecount)      \n",
        "        return bestres, bestnode"
      ],
      "execution_count": 0,
      "outputs": []
    },
    {
      "cell_type": "markdown",
      "metadata": {
        "id": "ex8WK9iE7DCK",
        "colab_type": "text"
      },
      "source": [
        "# Manipulando"
      ]
    },
    {
      "cell_type": "code",
      "metadata": {
        "id": "Z7BmRxvX7Zre",
        "colab_type": "code",
        "outputId": "465b48b5-0d09-4e27-dad1-3ff7cdfe4b0b",
        "colab": {
          "base_uri": "https://localhost:8080/",
          "height": 34
        }
      },
      "source": [
        "matriz = []\n",
        "arquivo = open('problema.txt','r')\n",
        "for linha in arquivo:\n",
        "  valores = linha.split()\n",
        "  matriz.append(valores) #ler do arquivo as linhas e coloca na matriz, para manipulações futuras\n",
        "arquivo.close()\n",
        "\n",
        "\n",
        "\n",
        "for i in range(len(matriz)):\n",
        "  for j in range (len(matriz[i])):\n",
        "    matriz[i][j] = float(matriz[i][j]) #converte as string lida no arquivo para inteiro\n",
        "matriz[0][0] = int(matriz[0][0])\n",
        "matriz[0][1] = int(matriz[0][1])\n",
        "print(matriz)\n"
      ],
      "execution_count": 118,
      "outputs": [
        {
          "output_type": "stream",
          "text": [
            "[[3, 2], [5.0, 10.0, 8.0], [3.0, 5.0, 2.0, 6.0], [4.0, 4.0, 4.0, 7.0]]\n"
          ],
          "name": "stdout"
        }
      ]
    },
    {
      "cell_type": "code",
      "metadata": {
        "id": "iXcqH9hW7cE_",
        "colab_type": "code",
        "outputId": "a7f59f87-df4d-4a78-b355-0f7da30926be",
        "colab": {
          "base_uri": "https://localhost:8080/",
          "height": 34
        }
      },
      "source": [
        "\n",
        "tratamento = matriz.pop(0)\n",
        "print (tratamento)\n",
        "#separando variavel e restrição\n",
        "variaveis = int(tratamento[0])\n",
        "restricao = int(tratamento[1])\n",
        "#colocando a lista da função objetivo na variavel\n",
        "\n",
        "funcao_objetivo = matriz.pop(0)\n",
        "matriz_restricao = matriz\n",
        "\n"
      ],
      "execution_count": 119,
      "outputs": [
        {
          "output_type": "stream",
          "text": [
            "[3, 2]\n"
          ],
          "name": "stdout"
        }
      ]
    },
    {
      "cell_type": "code",
      "metadata": {
        "id": "yG2QKiav7SfL",
        "colab_type": "code",
        "colab": {}
      },
      "source": [
        "x = cvx.Variable(variaveis)\n",
        "constraints = []\n",
        "for i in range (restricao):\n",
        "  constraints += [matriz_restricao[i][:-1]*x >= matriz_restricao[i][len(matriz_restricao[i])-1]] # cria as restrições\n",
        "constraints +=  [x >= 0, x <=1 ] # relaxação entre 0 e 1, nos reais.\n",
        "objective = funcao_objetivo * x\n",
        "bool_vars = {x[i] for i in range(variaveis)} \n"
      ],
      "execution_count": 0,
      "outputs": []
    },
    {
      "cell_type": "code",
      "metadata": {
        "id": "6-QLOqai8ddS",
        "colab_type": "code",
        "outputId": "d36d7d7f-81a0-45c2-bea5-04405c1d60e6",
        "colab": {
          "base_uri": "https://localhost:8080/",
          "height": 1000
        }
      },
      "source": [
        "root = BBTreeNode(constraints = constraints, objective= objective, bool_vars = bool_vars)\n",
        "res, sol = root.bbsolve()\n",
        "print(\"~~\"*32)\n",
        "print(\"==========Solução encontrada==========\")\n",
        "print(\"Z = {:.4f}: \".format(res))\n",
        "print(\"variaveis: \")\n",
        "z = (sorted(list([(v.name(), v.value) for v in sol.bool_vars] + [(v.name(), v.value) for v in sol.vars] )) )\n",
        "for i in range(len(z)):\n",
        "  print(\"X{} = {:.2f}\".format(i,round(z[i][1],4)))\n",
        "\n"
      ],
      "execution_count": 121,
      "outputs": [
        {
          "output_type": "stream",
          "text": [
            "~~~~~~~~~~~~~~~~~~~~~~~~~~~~~~~~~~~~~~~~~~~~~~~~~~~~~~~~~~~~~~~~\n",
            "Adicionando Nó Pai\n",
            "[(11.999999999188262, 0, <__main__.BBTreeNode object at 0x7f6161ba5208>)]\n",
            "[('var35283[0]', 1.0000000000573852), ('var35283[1]', 0.5000000001357168), ('var35283[2]', 0.24999999969302117)]\n",
            "~~~~~~~~~~~~~~~~~~~~~~~~~~~~~~~~~~~~~~~~~~~~~~~~~~~~~~~~~~~~~~~~\n",
            "Nós abertos:  1\n",
            "abrindo nó...\n",
            "~~~~~~~~~~~~~~~~~~~~~~~~~~~~~~~~~~~~~~~~~~~~~~~~~~~~~~~~~~~~~~~~\n",
            "numero do nó 1\n",
            "X0 = 1.0000\n",
            "X1 = 0.5000\n",
            "X2 = 0.2500\n",
            "Z =  12.0\n",
            "seguindo pela variavel com valor:  0.5\n",
            "~~~~~~~~~~~~~~~~~~~~~~~~~~~~~~~~~~~~~~~~~~~~~~~~~~~~~~~~~~~~~~~~\n",
            "Nós abertos:  2\n",
            "abrindo nó...\n",
            "~~~~~~~~~~~~~~~~~~~~~~~~~~~~~~~~~~~~~~~~~~~~~~~~~~~~~~~~~~~~~~~~\n",
            "numero do nó 2\n",
            "Infinito, podado por inviabilidade\n",
            "~~~~~~~~~~~~~~~~~~~~~~~~~~~~~~~~~~~~~~~~~~~~~~~~~~~~~~~~~~~~~~~~\n",
            "Nós abertos:  1\n",
            "abrindo nó...\n",
            "~~~~~~~~~~~~~~~~~~~~~~~~~~~~~~~~~~~~~~~~~~~~~~~~~~~~~~~~~~~~~~~~\n",
            "numero do nó 3\n",
            "X0 = 0.7500\n",
            "X1 = 1.0000\n",
            "X2 = 0.0000\n",
            "Z =  13.75\n",
            "seguindo pela variavel com valor:  0.75\n",
            "~~~~~~~~~~~~~~~~~~~~~~~~~~~~~~~~~~~~~~~~~~~~~~~~~~~~~~~~~~~~~~~~\n",
            "Nós abertos:  2\n",
            "abrindo nó...\n",
            "~~~~~~~~~~~~~~~~~~~~~~~~~~~~~~~~~~~~~~~~~~~~~~~~~~~~~~~~~~~~~~~~\n",
            "numero do nó 4\n",
            "X0 = 0.0000\n",
            "X1 = 1.0000\n",
            "X2 = 0.7500\n",
            "Z =  16.0\n",
            "seguindo pela variavel com valor:  0.75\n",
            "~~~~~~~~~~~~~~~~~~~~~~~~~~~~~~~~~~~~~~~~~~~~~~~~~~~~~~~~~~~~~~~~\n",
            "Nós abertos:  3\n",
            "abrindo nó...\n",
            "~~~~~~~~~~~~~~~~~~~~~~~~~~~~~~~~~~~~~~~~~~~~~~~~~~~~~~~~~~~~~~~~\n",
            "numero do nó 5\n",
            "X0 = 1.0000\n",
            "X1 = 1.0000\n",
            "X2 = 0.0000\n",
            "Z =  15.0\n",
            "Nova solução integral.\n",
            "~~~~~~~~~~~~~~~~~~~~~~~~~~~~~~~~~~~~~~~~~~~~~~~~~~~~~~~~~~~~~~~~\n",
            "Nós abertos:  2\n",
            "abrindo nó...\n",
            "~~~~~~~~~~~~~~~~~~~~~~~~~~~~~~~~~~~~~~~~~~~~~~~~~~~~~~~~~~~~~~~~\n",
            "numero do nó 6\n",
            "Infinito, podado por inviabilidade\n",
            "~~~~~~~~~~~~~~~~~~~~~~~~~~~~~~~~~~~~~~~~~~~~~~~~~~~~~~~~~~~~~~~~\n",
            "Nós abertos:  1\n",
            "abrindo nó...\n",
            "~~~~~~~~~~~~~~~~~~~~~~~~~~~~~~~~~~~~~~~~~~~~~~~~~~~~~~~~~~~~~~~~\n",
            "numero do nó 7\n",
            "X0 = 0.0000\n",
            "X1 = 1.0000\n",
            "X2 = 1.0000\n",
            "Z =  18.0\n",
            "Podado por limitante. Podando o nó.\n",
            "Quantidade de nós descobertos:  7\n",
            "~~~~~~~~~~~~~~~~~~~~~~~~~~~~~~~~~~~~~~~~~~~~~~~~~~~~~~~~~~~~~~~~\n",
            "==========Solução encontrada==========\n",
            "Z = 15.0000: \n",
            "variaveis: \n",
            "X0 = 1.00\n",
            "X1 = 1.00\n",
            "X2 = 0.00\n"
          ],
          "name": "stdout"
        }
      ]
    }
  ]
}